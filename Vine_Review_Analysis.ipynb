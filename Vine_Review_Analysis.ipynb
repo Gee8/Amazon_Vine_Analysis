{
  "nbformat": 4,
  "nbformat_minor": 0,
  "metadata": {
    "colab": {
      "name": "Vine_Review_Analysis.ipynb",
      "provenance": []
    },
    "kernelspec": {
      "name": "python3",
      "display_name": "Python 3"
    },
    "language_info": {
      "name": "python"
    }
  },
  "cells": [
    {
      "cell_type": "code",
      "metadata": {
        "colab": {
          "base_uri": "https://localhost:8080/"
        },
        "id": "Psi7KKIFFx6q",
        "outputId": "bffca19f-8672-4f0f-fcd5-e7954a7e3d73"
      },
      "source": [
        "import os\n",
        "# Find the latest version of spark 2.0  from http://www-us.apache.org/dist/spark/ and enter as the spark version\n",
        "# For example:\n",
        "# spark_version = 'spark-3.0.0'\n",
        "spark_version = 'spark-3.0.3'\n",
        "os.environ['SPARK_VERSION']=spark_version\n",
        "\n",
        "# Install Spark and Java\n",
        "!apt-get update\n",
        "!apt-get install openjdk-11-jdk-headless -qq > /dev/null\n",
        "!wget -q http://www-us.apache.org/dist/spark/$SPARK_VERSION/$SPARK_VERSION-bin-hadoop2.7.tgz\n",
        "!tar xf $SPARK_VERSION-bin-hadoop2.7.tgz\n",
        "!pip install -q findspark\n",
        "\n",
        "# Set Environment Variables\n",
        "import os\n",
        "os.environ[\"JAVA_HOME\"] = \"/usr/lib/jvm/java-11-openjdk-amd64\"\n",
        "os.environ[\"SPARK_HOME\"] = f\"/content/{spark_version}-bin-hadoop2.7\"\n",
        "\n",
        "# Start a SparkSession\n",
        "import findspark\n",
        "findspark.init()"
      ],
      "execution_count": 1,
      "outputs": [
        {
          "output_type": "stream",
          "text": [
            "\r0% [Working]\r            \rGet:1 https://cloud.r-project.org/bin/linux/ubuntu bionic-cran40/ InRelease [3,626 B]\n",
            "\r0% [Connecting to archive.ubuntu.com (91.189.88.152)] [Connecting to security.u\r0% [Connecting to archive.ubuntu.com (91.189.88.152)] [Connecting to security.u\r0% [1 InRelease gpgv 3,626 B] [Connecting to archive.ubuntu.com (91.189.88.152)\r                                                                               \rIgn:2 https://developer.download.nvidia.com/compute/cuda/repos/ubuntu1804/x86_64  InRelease\n",
            "\r0% [1 InRelease gpgv 3,626 B] [Connecting to archive.ubuntu.com (91.189.88.152)\r                                                                               \rIgn:3 https://developer.download.nvidia.com/compute/machine-learning/repos/ubuntu1804/x86_64  InRelease\n",
            "\r0% [1 InRelease gpgv 3,626 B] [Waiting for headers] [Waiting for headers] [Wait\r                                                                               \rGet:4 https://developer.download.nvidia.com/compute/cuda/repos/ubuntu1804/x86_64  Release [697 B]\n",
            "\r0% [1 InRelease gpgv 3,626 B] [Waiting for headers] [Waiting for headers] [Wait\r0% [1 InRelease gpgv 3,626 B] [Waiting for headers] [Waiting for headers] [Wait\r                                                                               \rHit:5 https://developer.download.nvidia.com/compute/machine-learning/repos/ubuntu1804/x86_64  Release\n",
            "Get:6 https://developer.download.nvidia.com/compute/cuda/repos/ubuntu1804/x86_64  Release.gpg [836 B]\n",
            "Get:7 http://security.ubuntu.com/ubuntu bionic-security InRelease [88.7 kB]\n",
            "Get:8 http://ppa.launchpad.net/c2d4u.team/c2d4u4.0+/ubuntu bionic InRelease [15.9 kB]\n",
            "Hit:9 http://archive.ubuntu.com/ubuntu bionic InRelease\n",
            "Get:10 http://archive.ubuntu.com/ubuntu bionic-updates InRelease [88.7 kB]\n",
            "Hit:12 http://ppa.launchpad.net/cran/libgit2/ubuntu bionic InRelease\n",
            "Get:13 http://archive.ubuntu.com/ubuntu bionic-backports InRelease [74.6 kB]\n",
            "Get:14 http://ppa.launchpad.net/deadsnakes/ppa/ubuntu bionic InRelease [15.9 kB]\n",
            "Ign:15 https://developer.download.nvidia.com/compute/cuda/repos/ubuntu1804/x86_64  Packages\n",
            "Get:15 https://developer.download.nvidia.com/compute/cuda/repos/ubuntu1804/x86_64  Packages [634 kB]\n",
            "Get:16 http://ppa.launchpad.net/graphics-drivers/ppa/ubuntu bionic InRelease [21.3 kB]\n",
            "Get:17 http://security.ubuntu.com/ubuntu bionic-security/restricted amd64 Packages [473 kB]\n",
            "Get:18 http://ppa.launchpad.net/c2d4u.team/c2d4u4.0+/ubuntu bionic/main Sources [1,777 kB]\n",
            "Get:19 http://security.ubuntu.com/ubuntu bionic-security/universe amd64 Packages [1,418 kB]\n",
            "Get:20 http://security.ubuntu.com/ubuntu bionic-security/main amd64 Packages [2,221 kB]\n",
            "Get:21 http://archive.ubuntu.com/ubuntu bionic-updates/main amd64 Packages [2,657 kB]\n",
            "Get:22 http://ppa.launchpad.net/c2d4u.team/c2d4u4.0+/ubuntu bionic/main amd64 Packages [909 kB]\n",
            "Get:23 http://archive.ubuntu.com/ubuntu bionic-updates/restricted amd64 Packages [506 kB]\n",
            "Get:24 http://archive.ubuntu.com/ubuntu bionic-updates/universe amd64 Packages [2,188 kB]\n",
            "Get:25 http://ppa.launchpad.net/deadsnakes/ppa/ubuntu bionic/main amd64 Packages [40.9 kB]\n",
            "Get:26 http://ppa.launchpad.net/graphics-drivers/ppa/ubuntu bionic/main amd64 Packages [41.5 kB]\n",
            "Fetched 13.2 MB in 5s (2,711 kB/s)\n",
            "Reading package lists... Done\n"
          ],
          "name": "stdout"
        }
      ]
    },
    {
      "cell_type": "code",
      "metadata": {
        "id": "my6QwxXFGJjm"
      },
      "source": [
        "# starting spark session\n",
        "from pyspark.sql import SparkSession\n",
        "spark = SparkSession.builder.appName(\"BigData-Challenge\").config(\"spark.driver.extraClassPath\",\"/content/postgresql-42.2.16.jar\").getOrCreate()"
      ],
      "execution_count": 3,
      "outputs": []
    },
    {
      "cell_type": "code",
      "metadata": {
        "colab": {
          "base_uri": "https://localhost:8080/"
        },
        "id": "TBDVPaKUGOK2",
        "outputId": "37b7414d-fe76-43fe-8976-5dfd4074b587"
      },
      "source": [
        "# loading data into a df\n",
        "from pyspark import SparkFiles\n",
        "url = \"https://s3.amazonaws.com/amazon-reviews-pds/tsv/amazon_reviews_us_Electronics_v1_00.tsv.gz\"\n",
        "spark.sparkContext.addFile(url)\n",
        "df = spark.read.option(\"encoding\", \"UTF-8\").csv(SparkFiles.get(\"amazon_reviews_us_Electronics_v1_00.tsv.gz\"), sep=\"\\t\", header=True, inferSchema=True)\n",
        "df.show()"
      ],
      "execution_count": 4,
      "outputs": [
        {
          "output_type": "stream",
          "text": [
            "+-----------+-----------+--------------+----------+--------------+--------------------+----------------+-----------+-------------+-----------+----+-----------------+--------------------+--------------------+-----------+\n",
            "|marketplace|customer_id|     review_id|product_id|product_parent|       product_title|product_category|star_rating|helpful_votes|total_votes|vine|verified_purchase|     review_headline|         review_body|review_date|\n",
            "+-----------+-----------+--------------+----------+--------------+--------------------+----------------+-----------+-------------+-----------+----+-----------------+--------------------+--------------------+-----------+\n",
            "|         US|   41409413|R2MTG1GCZLR2DK|B00428R89M|     112201306|yoomall 5M Antenn...|     Electronics|          5|            0|          0|   N|                Y|          Five Stars|       As described.| 2015-08-31|\n",
            "|         US|   49668221|R2HBOEM8LE9928|B000068O48|     734576678|Hosa GPM-103 3.5m...|     Electronics|          5|            0|          0|   N|                Y|It works as adver...|It works as adver...| 2015-08-31|\n",
            "|         US|   12338275|R1P4RW1R9FDPEE|B000GGKOG8|     614448099|Channel Master Ti...|     Electronics|          5|            1|          1|   N|                Y|          Five Stars|         Works pissa| 2015-08-31|\n",
            "|         US|   38487968|R1EBPM82ENI67M|B000NU4OTA|      72265257|LIMTECH Wall char...|     Electronics|          1|            0|          0|   N|                Y|            One Star|Did not work at all.| 2015-08-31|\n",
            "|         US|   23732619|R372S58V6D11AT|B00JOQIO6S|     308169188|Skullcandy Air Ra...|     Electronics|          5|            1|          1|   N|                Y|Overall pleased w...|Works well. Bass ...| 2015-08-31|\n",
            "|         US|   21257820|R1A4514XOYI1PD|B008NCD2LG|     976385982|Pioneer SP-BS22-L...|     Electronics|          5|            1|          1|   N|                Y|          Five Stars|The quality on th...| 2015-08-31|\n",
            "|         US|    3084991|R20D9EHB7N20V6|B00007FGUF|     670878953|C2G/Cables to Go ...|     Electronics|          5|            0|          0|   N|                Y|           Lifesaver|Wish I could give...| 2015-08-31|\n",
            "|         US|    8153674|R1WUTD8MVSROJU|B00M9V2RMM|     508452933|COOLEAD-HDMI Swit...|     Electronics|          5|            0|          0|   N|                Y|          Five Stars|         works great| 2015-08-31|\n",
            "|         US|   52246189|R1QCYLT25812DM|B00J3O9DYI|     766372886|Philips Wireless ...|     Electronics|          4|            0|          0|   N|                Y|          Four Stars|Great sound and c...| 2015-08-31|\n",
            "|         US|   41463864| R904DQPBCEM7A|B00NS1A0E4|     458130381|PlayStation 3 3D ...|     Electronics|          4|            0|          0|   N|                Y|          Four Stars|    It works well~~~| 2015-08-31|\n",
            "|         US|    2781942|R1DGA6UQIVLKZ7|B007B5V092|     152891509|JVC HAFR201A Xtre...|     Electronics|          5|            0|          0|   N|                Y|          Five Stars|           Alll good| 2015-08-31|\n",
            "|         US|     707292| RLQT3V8SMNIBH|B00IODHGVG|     717335277|Sylvania Alarm Cl...|     Electronics|          5|            0|          0|   N|                Y|          Five Stars|Love clock radio ...| 2015-08-31|\n",
            "|         US|   31463514|R3T9GZS2TMXZGM|B0035PBHX6|     249533961|Coby 8 GB 1.8-Inc...|     Electronics|          1|            0|          0|   N|                Y|            One Star|Breaks very easil...| 2015-08-31|\n",
            "|         US|   33475055|R24HVAEYP5PLDN|B00K1JJWFO|     635791633|Diamond (Original...|     Electronics|          5|            0|          1|   N|                Y|          Five Stars|Excellent gain in...| 2015-08-31|\n",
            "|         US|   16543871|R32KMAPNV5NJPJ|B00S3LJ5EA|     659360184|Kingvom 8gb 50 Ho...|     Electronics|          5|            0|          0|   N|                Y|          Five Stars|everything I expe...| 2015-08-31|\n",
            "|         US|   38472651| RC7VLPHUT6UAF|B00B5QNGN6|     564421014|JBL Ultra-Portabl...|     Electronics|          5|            0|          0|   N|                Y|          Five Stars|Love this small s...| 2015-08-31|\n",
            "|         US|   26946211|R3G1II8P4KGUAR|B00PLE8QF6|     685446417|YIPBOWPT Surface ...|     Electronics|          5|            0|          0|   N|                Y|       great product|works as advertis...| 2015-08-31|\n",
            "|         US|   10195727|R1UBFCBUALL6S5|B00GHUSIU6|     595255086|StarTech.com Mini...|     Electronics|          5|            0|          0|   N|                Y|          Five Stars|very good especia...| 2015-08-31|\n",
            "|         US|   47386264|R1WI5NISM6GAUG|B0045EJY90|     892920832|TEAC CD-P650-B Co...|     Electronics|          2|            4|          5|   N|                Y|It does not copy ...|It does not copy ...| 2015-08-31|\n",
            "|         US|   13000908|R27F4OF4BIA4LU|B003BT6BM8|     631236454|Philips SHS8100/2...|     Electronics|          2|            1|          1|   N|                Y|Did not last long...|Did not last long...| 2015-08-31|\n",
            "+-----------+-----------+--------------+----------+--------------+--------------------+----------------+-----------+-------------+-----------+----+-----------------+--------------------+--------------------+-----------+\n",
            "only showing top 20 rows\n",
            "\n"
          ],
          "name": "stdout"
        }
      ]
    },
    {
      "cell_type": "code",
      "metadata": {
        "colab": {
          "base_uri": "https://localhost:8080/"
        },
        "id": "_adkY-IuGay2",
        "outputId": "758ddcdb-77c0-4dd8-9dfd-802d5acda725"
      },
      "source": [
        "# Create the vine_table. DataFrame\n",
        "vine_df = df.select(['review_id', 'star_rating', 'helpful_votes', 'total_votes', 'vine', 'verified_purchase'])\n",
        "vine_df.show()"
      ],
      "execution_count": 5,
      "outputs": [
        {
          "output_type": "stream",
          "text": [
            "+--------------+-----------+-------------+-----------+----+-----------------+\n",
            "|     review_id|star_rating|helpful_votes|total_votes|vine|verified_purchase|\n",
            "+--------------+-----------+-------------+-----------+----+-----------------+\n",
            "|R2MTG1GCZLR2DK|          5|            0|          0|   N|                Y|\n",
            "|R2HBOEM8LE9928|          5|            0|          0|   N|                Y|\n",
            "|R1P4RW1R9FDPEE|          5|            1|          1|   N|                Y|\n",
            "|R1EBPM82ENI67M|          1|            0|          0|   N|                Y|\n",
            "|R372S58V6D11AT|          5|            1|          1|   N|                Y|\n",
            "|R1A4514XOYI1PD|          5|            1|          1|   N|                Y|\n",
            "|R20D9EHB7N20V6|          5|            0|          0|   N|                Y|\n",
            "|R1WUTD8MVSROJU|          5|            0|          0|   N|                Y|\n",
            "|R1QCYLT25812DM|          4|            0|          0|   N|                Y|\n",
            "| R904DQPBCEM7A|          4|            0|          0|   N|                Y|\n",
            "|R1DGA6UQIVLKZ7|          5|            0|          0|   N|                Y|\n",
            "| RLQT3V8SMNIBH|          5|            0|          0|   N|                Y|\n",
            "|R3T9GZS2TMXZGM|          1|            0|          0|   N|                Y|\n",
            "|R24HVAEYP5PLDN|          5|            0|          1|   N|                Y|\n",
            "|R32KMAPNV5NJPJ|          5|            0|          0|   N|                Y|\n",
            "| RC7VLPHUT6UAF|          5|            0|          0|   N|                Y|\n",
            "|R3G1II8P4KGUAR|          5|            0|          0|   N|                Y|\n",
            "|R1UBFCBUALL6S5|          5|            0|          0|   N|                Y|\n",
            "|R1WI5NISM6GAUG|          2|            4|          5|   N|                Y|\n",
            "|R27F4OF4BIA4LU|          2|            1|          1|   N|                Y|\n",
            "+--------------+-----------+-------------+-----------+----+-----------------+\n",
            "only showing top 20 rows\n",
            "\n"
          ],
          "name": "stdout"
        }
      ]
    },
    {
      "cell_type": "code",
      "metadata": {
        "colab": {
          "base_uri": "https://localhost:8080/"
        },
        "id": "8640BuSDHQrL",
        "outputId": "9c176a4d-f439-45d8-effe-51093090b1e1"
      },
      "source": [
        "# filtering vine_df to show only rows with total_votes > 20\n",
        "twenty_total_df = vine_df.filter(\"total_votes>20\")\n",
        "twenty_total_df.show()"
      ],
      "execution_count": 8,
      "outputs": [
        {
          "output_type": "stream",
          "text": [
            "+--------------+-----------+-------------+-----------+----+-----------------+\n",
            "|     review_id|star_rating|helpful_votes|total_votes|vine|verified_purchase|\n",
            "+--------------+-----------+-------------+-----------+----+-----------------+\n",
            "|R1FBO737KD9F2N|          5|           19|         23|   N|                Y|\n",
            "|R3SJTYZBYBG4EE|          4|           99|         99|   N|                Y|\n",
            "|R248FG65D76D5Y|          1|           42|         53|   N|                Y|\n",
            "|R3B6BXFKGW52SG|          1|           32|         32|   N|                Y|\n",
            "| ROTIV4VYL31R4|          5|           26|         26|   N|                Y|\n",
            "|R3VQ59LD2LSKY7|          5|           20|         25|   N|                Y|\n",
            "| RIIGLD8JB7PX8|          1|           32|         35|   N|                Y|\n",
            "|R3MUBV21QV0IJK|          3|           77|         84|   N|                Y|\n",
            "|R1V5W0X6BKIJYA|          5|          129|        132|   N|                Y|\n",
            "|R274AKHXHYGIN6|          5|           87|        100|   N|                N|\n",
            "| RVSZIYT9NB29U|          5|           22|         46|   N|                Y|\n",
            "|R1RDAOSARQUVFJ|          2|            6|         26|   N|                N|\n",
            "| R88RERIQDYDT5|          2|           17|         26|   N|                N|\n",
            "|R3T31I7IKQ5LFQ|          3|           52|         55|   N|                Y|\n",
            "| RZETLPHZJFYB8|          5|           23|         24|   N|                Y|\n",
            "|R1BG5NL9AX68QE|          1|           23|         29|   N|                Y|\n",
            "|R1Y05HDL2AWCSA|          5|          140|        145|   N|                Y|\n",
            "|R20EPERDBI56K8|          1|           30|         37|   N|                Y|\n",
            "| RPTN47ZNQBPWE|          5|           20|         24|   N|                Y|\n",
            "|R1Z8E8W9V6H911|          1|            2|         30|   N|                Y|\n",
            "+--------------+-----------+-------------+-----------+----+-----------------+\n",
            "only showing top 20 rows\n",
            "\n"
          ],
          "name": "stdout"
        }
      ]
    },
    {
      "cell_type": "code",
      "metadata": {
        "colab": {
          "base_uri": "https://localhost:8080/"
        },
        "id": "4bpjAEylH24B",
        "outputId": "71b95c2d-3a88-4ee0-9b69-0c935dc3811f"
      },
      "source": [
        "# filtering to retrieve all rows where helpful_votes/total_votes>=50%\n",
        "helpful_df = twenty_total_df.filter(\"helpful_votes/total_votes>=.5\")\n",
        "helpful_df.show()"
      ],
      "execution_count": 9,
      "outputs": [
        {
          "output_type": "stream",
          "text": [
            "+--------------+-----------+-------------+-----------+----+-----------------+\n",
            "|     review_id|star_rating|helpful_votes|total_votes|vine|verified_purchase|\n",
            "+--------------+-----------+-------------+-----------+----+-----------------+\n",
            "|R1FBO737KD9F2N|          5|           19|         23|   N|                Y|\n",
            "|R3SJTYZBYBG4EE|          4|           99|         99|   N|                Y|\n",
            "|R248FG65D76D5Y|          1|           42|         53|   N|                Y|\n",
            "|R3B6BXFKGW52SG|          1|           32|         32|   N|                Y|\n",
            "| ROTIV4VYL31R4|          5|           26|         26|   N|                Y|\n",
            "|R3VQ59LD2LSKY7|          5|           20|         25|   N|                Y|\n",
            "| RIIGLD8JB7PX8|          1|           32|         35|   N|                Y|\n",
            "|R3MUBV21QV0IJK|          3|           77|         84|   N|                Y|\n",
            "|R1V5W0X6BKIJYA|          5|          129|        132|   N|                Y|\n",
            "|R274AKHXHYGIN6|          5|           87|        100|   N|                N|\n",
            "| R88RERIQDYDT5|          2|           17|         26|   N|                N|\n",
            "|R3T31I7IKQ5LFQ|          3|           52|         55|   N|                Y|\n",
            "| RZETLPHZJFYB8|          5|           23|         24|   N|                Y|\n",
            "|R1BG5NL9AX68QE|          1|           23|         29|   N|                Y|\n",
            "|R1Y05HDL2AWCSA|          5|          140|        145|   N|                Y|\n",
            "|R20EPERDBI56K8|          1|           30|         37|   N|                Y|\n",
            "| RPTN47ZNQBPWE|          5|           20|         24|   N|                Y|\n",
            "|R3VJ8U3A8MT8II|          5|           17|         21|   N|                Y|\n",
            "|R3FMODXVNCITMO|          1|           70|         72|   N|                N|\n",
            "|R3PZT6IB5CSSP2|          5|           49|         53|   N|                Y|\n",
            "+--------------+-----------+-------------+-----------+----+-----------------+\n",
            "only showing top 20 rows\n",
            "\n"
          ],
          "name": "stdout"
        }
      ]
    },
    {
      "cell_type": "code",
      "metadata": {
        "colab": {
          "base_uri": "https://localhost:8080/"
        },
        "id": "FVNhiKyhIaPR",
        "outputId": "29356982-b9f1-4a71-c00f-5e049ed1fec0"
      },
      "source": [
        "# created a df where they are part of the paid Vine program. ie. vine == 'Y'\n",
        "paid_vine_df = helpful_df.filter(\"vine == 'Y'\")\n",
        "paid_vine_df.show()"
      ],
      "execution_count": 10,
      "outputs": [
        {
          "output_type": "stream",
          "text": [
            "+--------------+-----------+-------------+-----------+----+-----------------+\n",
            "|     review_id|star_rating|helpful_votes|total_votes|vine|verified_purchase|\n",
            "+--------------+-----------+-------------+-----------+----+-----------------+\n",
            "| R82QWN2X2OCHB|          5|          176|        208|   Y|                N|\n",
            "|R1UYHBYE6790BU|          5|           44|         53|   Y|                N|\n",
            "|R2J3YLX1L4EH2B|          5|          299|        321|   Y|                N|\n",
            "|R3QDI539WTXKE2|          5|           26|         32|   Y|                N|\n",
            "| RQTPWY6ND2NRV|          4|           37|         37|   Y|                N|\n",
            "| RQZSTE0KOBY2G|          4|           98|        109|   Y|                N|\n",
            "| RF2RNZEJO0K1N|          4|           23|         26|   Y|                N|\n",
            "| ROB6VOW41E8O5|          4|          155|        172|   Y|                N|\n",
            "|R1PSDADBJRKB7N|          5|          215|        234|   Y|                N|\n",
            "|R379PSH3FBB6CG|          5|           22|         26|   Y|                N|\n",
            "| R4TBG0DR9Q3R2|          4|           27|         35|   Y|                N|\n",
            "|R3LFHK362GJ77T|          4|           31|         33|   Y|                N|\n",
            "|R1GB60TUTJB5HP|          5|           41|         45|   Y|                N|\n",
            "|R2471U9VXGOMON|          4|          197|        206|   Y|                N|\n",
            "|R24N1S9H53A8QR|          5|           64|         70|   Y|                N|\n",
            "|R2S4BSWNHNX2GG|          5|           54|         61|   Y|                N|\n",
            "|R36FG1XJKLAK36|          5|           23|         27|   Y|                N|\n",
            "|R2ENZ835SOCA46|          4|           26|         30|   Y|                N|\n",
            "|R10G5QATYX3KM4|          5|           24|         34|   Y|                N|\n",
            "|R35IDZENI2MJOE|          5|           21|         30|   Y|                N|\n",
            "+--------------+-----------+-------------+-----------+----+-----------------+\n",
            "only showing top 20 rows\n",
            "\n"
          ],
          "name": "stdout"
        }
      ]
    },
    {
      "cell_type": "code",
      "metadata": {
        "colab": {
          "base_uri": "https://localhost:8080/"
        },
        "id": "jd_w_9clJQZT",
        "outputId": "1bffdf2b-91a5-46a2-e0b7-566a79920a73"
      },
      "source": [
        "unpaid_vine_df = helpful_df.filter(\"vine == 'N'\")\n",
        "unpaid_vine_df.show()"
      ],
      "execution_count": 11,
      "outputs": [
        {
          "output_type": "stream",
          "text": [
            "+--------------+-----------+-------------+-----------+----+-----------------+\n",
            "|     review_id|star_rating|helpful_votes|total_votes|vine|verified_purchase|\n",
            "+--------------+-----------+-------------+-----------+----+-----------------+\n",
            "|R1FBO737KD9F2N|          5|           19|         23|   N|                Y|\n",
            "|R3SJTYZBYBG4EE|          4|           99|         99|   N|                Y|\n",
            "|R248FG65D76D5Y|          1|           42|         53|   N|                Y|\n",
            "|R3B6BXFKGW52SG|          1|           32|         32|   N|                Y|\n",
            "| ROTIV4VYL31R4|          5|           26|         26|   N|                Y|\n",
            "|R3VQ59LD2LSKY7|          5|           20|         25|   N|                Y|\n",
            "| RIIGLD8JB7PX8|          1|           32|         35|   N|                Y|\n",
            "|R3MUBV21QV0IJK|          3|           77|         84|   N|                Y|\n",
            "|R1V5W0X6BKIJYA|          5|          129|        132|   N|                Y|\n",
            "|R274AKHXHYGIN6|          5|           87|        100|   N|                N|\n",
            "| R88RERIQDYDT5|          2|           17|         26|   N|                N|\n",
            "|R3T31I7IKQ5LFQ|          3|           52|         55|   N|                Y|\n",
            "| RZETLPHZJFYB8|          5|           23|         24|   N|                Y|\n",
            "|R1BG5NL9AX68QE|          1|           23|         29|   N|                Y|\n",
            "|R1Y05HDL2AWCSA|          5|          140|        145|   N|                Y|\n",
            "|R20EPERDBI56K8|          1|           30|         37|   N|                Y|\n",
            "| RPTN47ZNQBPWE|          5|           20|         24|   N|                Y|\n",
            "|R3VJ8U3A8MT8II|          5|           17|         21|   N|                Y|\n",
            "|R3FMODXVNCITMO|          1|           70|         72|   N|                N|\n",
            "|R3PZT6IB5CSSP2|          5|           49|         53|   N|                Y|\n",
            "+--------------+-----------+-------------+-----------+----+-----------------+\n",
            "only showing top 20 rows\n",
            "\n"
          ],
          "name": "stdout"
        }
      ]
    },
    {
      "cell_type": "code",
      "metadata": {
        "id": "lyALspzqLO9N"
      },
      "source": [
        "# getting total number of reviews, paid reviews, and unpaid reviews\n",
        "total_reviews = helpful_df.count()\n",
        "paid_reviews = paid_vine_df.count()\n",
        "unpaid_reviews = unpaid_vine_df.count()"
      ],
      "execution_count": 13,
      "outputs": []
    },
    {
      "cell_type": "code",
      "metadata": {
        "id": "H2hnl8KVL_Pd"
      },
      "source": [
        "# getting number of 5 star reviews for the three dfs\n",
        "total_reviews_five = helpful_df.filter('star_rating=5').count()\n",
        "paid_reviews_five = paid_vine_df.filter('star_rating=5').count()\n",
        "unpaid_reviews_five = unpaid_vine_df.filter('star_rating=5').count()"
      ],
      "execution_count": 14,
      "outputs": []
    },
    {
      "cell_type": "code",
      "metadata": {
        "id": "RppajnrHMddB"
      },
      "source": [
        "# getting five star percentages\n",
        "total_five_percentage = total_reviews_five / total_reviews * 100\n",
        "paid_five_percentage = paid_reviews_five / paid_reviews * 100\n",
        "unpaid_five_percentage = unpaid_reviews_five / unpaid_reviews * 100"
      ],
      "execution_count": 15,
      "outputs": []
    },
    {
      "cell_type": "code",
      "metadata": {
        "colab": {
          "base_uri": "https://localhost:8080/"
        },
        "id": "gmd9jA3HR5Sz",
        "outputId": "daabf1fb-c0a2-468e-b246-b9dc3a9ed486"
      },
      "source": [
        "# creating a df to display 5 star results\n",
        "from pyspark.sql.functions import lit,concat,col\n",
        "\n",
        "# rows and columns\n",
        "data = [(\"Helpful Reviews\", total_reviews, total_reviews_five, round(total_five_percentage, 2)),\n",
        "        (\"Paid Reviews\", paid_reviews, paid_reviews_five, round(paid_five_percentage, 2)),\n",
        "        (\"Unpaid reviews\", unpaid_reviews, unpaid_reviews_five, round(unpaid_five_percentage, 2))]\n",
        "\n",
        "columns = [\"Type\", \"Total\", \"5-Star Reviews\", \"5-Star Percentage\"]\n",
        "\n",
        "# creating df\n",
        "rdd = spark.sparkContext.parallelize(data)\n",
        "five_star_df = spark.createDataFrame(rdd).toDF(*columns)\n",
        "\n",
        "# adding % to the 5-Star Percentage column values\n",
        "five_star_df = five_star_df.withColumn(\"5-Star Percentage\", concat(col('5-Star Percentage'), lit('%')))\n",
        "\n",
        "# displaying five_star_df\n",
        "five_star_df.show()"
      ],
      "execution_count": 45,
      "outputs": [
        {
          "output_type": "stream",
          "text": [
            "+---------------+-----+--------------+-----------------+\n",
            "|           Type|Total|5-Star Reviews|5-Star Percentage|\n",
            "+---------------+-----+--------------+-----------------+\n",
            "|Helpful Reviews|47808|         22195|           46.43%|\n",
            "|   Paid Reviews| 1032|           440|           42.64%|\n",
            "| Unpaid reviews|46776|         21755|           46.51%|\n",
            "+---------------+-----+--------------+-----------------+\n",
            "\n"
          ],
          "name": "stdout"
        }
      ]
    }
  ]
}